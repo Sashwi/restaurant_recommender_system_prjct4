{
 "cells": [
  {
   "cell_type": "code",
   "execution_count": null,
   "id": "af1d9f89",
   "metadata": {},
   "outputs": [
    {
     "name": "stdout",
     "output_type": "stream",
     "text": [
      "✅ Encoding complete\n",
      "Final shape: (148398, 978)\n"
     ]
    }
   ],
   "source": [
    "import pandas as pd\n",
    "from sklearn.preprocessing import OneHotEncoder, MultiLabelBinarizer\n",
    "import pickle\n",
    "\n",
    "# 1. Load cleaned dataset\n",
    "df = pd.read_csv(\"cleaned_data.csv\")\n",
    "\n",
    "# 2. Split city into main_city and place_in_city\n",
    "df[[\"place_in_city\", \"main_city\"]] = df[\"city\"].str.split(\",\", n=1, expand=True)\n",
    "\n",
    "# 3. Process cuisine column (multi-label)\n",
    "df[\"cuisine\"] = df[\"cuisine\"].fillna(\"\").apply(lambda x: [c.strip() for c in x.split(\",\")])\n",
    "\n",
    "# 4. Encode main_city and place_in_city\n",
    "city_encoder = OneHotEncoder(handle_unknown=\"ignore\", sparse_output=False)\n",
    "city_encoded = city_encoder.fit_transform(df[[\"main_city\", \"place_in_city\"]])\n",
    "city_encoded_df = pd.DataFrame(city_encoded, columns=city_encoder.get_feature_names_out([\"main_city\", \"place_in_city\"]), index=df.index)\n",
    "\n",
    "# 5. Encode cuisine (multi-label)\n",
    "cuisine_encoder = MultiLabelBinarizer()\n",
    "cuisine_encoded = cuisine_encoder.fit_transform(df[\"cuisine\"])\n",
    "cuisine_encoded_df = pd.DataFrame(cuisine_encoded, columns=cuisine_encoder.classes_, index=df.index)\n",
    "\n",
    "# 6. Final dataset (keep name, ratings, cost + encoded features)\n",
    "final_df = pd.concat([df[[\"name\", \"rating\", \"rating_count\", \"cost\"]], city_encoded_df, cuisine_encoded_df], axis=1)\n",
    "\n",
    "# 7. Save encoder (both city and cuisine inside one dict)\n",
    "with open(\"encoder.pkl\", \"wb\") as f:\n",
    "    pickle.dump({\"city_encoder\": city_encoder, \"cuisine_encoder\": cuisine_encoder}, f)\n",
    "\n",
    "# 8. Save final encoded dataset\n",
    "final_df.to_csv(\"encoded_data.csv\", index=False)\n",
    "\n",
    "print(\"Encoding complete\")\n",
    "print(\"Final shape:\", final_df.shape)\n"
   ]
  }
 ],
 "metadata": {
  "kernelspec": {
   "display_name": "venv (3.12.3)",
   "language": "python",
   "name": "python3"
  },
  "language_info": {
   "codemirror_mode": {
    "name": "ipython",
    "version": 3
   },
   "file_extension": ".py",
   "mimetype": "text/x-python",
   "name": "python",
   "nbconvert_exporter": "python",
   "pygments_lexer": "ipython3",
   "version": "3.12.3"
  }
 },
 "nbformat": 4,
 "nbformat_minor": 5
}
