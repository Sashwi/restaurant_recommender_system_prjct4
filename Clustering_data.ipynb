{
 "cells": [
  {
   "cell_type": "code",
   "execution_count": 6,
   "id": "3831c398",
   "metadata": {},
   "outputs": [
    {
     "name": "stdout",
     "output_type": "stream",
     "text": [
      "✅ Encoding, scaling, and dimensionality reduction complete!\n",
      "Final shape: (148398, 200)\n"
     ]
    }
   ],
   "source": [
    "import pandas as pd\n",
    "from sklearn.preprocessing import MultiLabelBinarizer, OneHotEncoder, MaxAbsScaler\n",
    "from sklearn.decomposition import TruncatedSVD\n",
    "import pickle\n",
    "\n",
    "# Load your cleaned dataset\n",
    "df = pd.read_csv(\"cleaned_data.csv\")\n",
    "\n",
    "# -----------------------------\n",
    "# 1. Split city into main_city and sub_city\n",
    "# -----------------------------\n",
    "df[['main_city', 'sub_city']] = df['city'].str.split(',', n=1, expand=True)\n",
    "df['sub_city'] = df['sub_city'].fillna('Unknown')\n",
    "\n",
    "# -----------------------------\n",
    "# 2. Encode categorical features\n",
    "# -----------------------------\n",
    "\n",
    "# Cuisine (multi-label encoding)\n",
    "df['cuisine'] = df['cuisine'].fillna(\"\").apply(lambda x: x.split(','))\n",
    "mlb = MultiLabelBinarizer()\n",
    "cuisine_encoded = pd.DataFrame(mlb.fit_transform(df['cuisine']),\n",
    "                               columns=[f\"cuisine_{c}\" for c in mlb.classes_])\n",
    "\n",
    "# Main city + sub city (OneHotEncoder)\n",
    "ohe = OneHotEncoder(sparse_output=True, handle_unknown='ignore')\n",
    "city_encoded = ohe.fit_transform(df[['main_city', 'sub_city']])\n",
    "\n",
    "# -----------------------------\n",
    "# 3. Numeric features\n",
    "# -----------------------------\n",
    "numeric_cols = ['rating', 'rating_count', 'cost']\n",
    "numeric_df = df[numeric_cols].fillna(0)\n",
    "\n",
    "# -----------------------------\n",
    "# 4. Combine all features\n",
    "# -----------------------------\n",
    "from scipy.sparse import hstack\n",
    "\n",
    "X = hstack([\n",
    "    cuisine_encoded,   # multi-hot cuisines\n",
    "    city_encoded,      # sparse city data\n",
    "    numeric_df         # numerical\n",
    "])\n",
    "\n",
    "# -----------------------------\n",
    "# 5. Scale with MaxAbsScaler (memory safe)\n",
    "# -----------------------------\n",
    "scaler = MaxAbsScaler()\n",
    "X_scaled = scaler.fit_transform(X)\n",
    "\n",
    "# -----------------------------\n",
    "# 6. Dimensionality reduction (to save memory further)\n",
    "# -----------------------------\n",
    "svd = TruncatedSVD(n_components=200, random_state=42)\n",
    "X_reduced = svd.fit_transform(X_scaled)\n",
    "\n",
    "# -----------------------------\n",
    "# 7. Save processed dataset\n",
    "# -----------------------------\n",
    "with open(\"encoded_scaled.pkl\", \"wb\") as f:\n",
    "    pickle.dump(X_reduced, f)\n",
    "\n",
    "print(\"✅ Encoding, scaling, and dimensionality reduction complete!\")\n",
    "print(\"Final shape:\", X_reduced.shape)\n"
   ]
  }
 ],
 "metadata": {
  "kernelspec": {
   "display_name": "venv (3.12.3)",
   "language": "python",
   "name": "python3"
  },
  "language_info": {
   "codemirror_mode": {
    "name": "ipython",
    "version": 3
   },
   "file_extension": ".py",
   "mimetype": "text/x-python",
   "name": "python",
   "nbconvert_exporter": "python",
   "pygments_lexer": "ipython3",
   "version": "3.12.3"
  }
 },
 "nbformat": 4,
 "nbformat_minor": 5
}
