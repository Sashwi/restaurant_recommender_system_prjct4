{
 "cells": [
  {
   "cell_type": "code",
   "execution_count": null,
   "id": "196d37ea",
   "metadata": {},
   "outputs": [
    {
     "name": "stdout",
     "output_type": "stream",
     "text": [
      "Shape before cleaning: (148541, 11)\n"
     ]
    }
   ],
   "source": [
    "import pandas as pd\n",
    "\n",
    "# Load raw Swiggy data\n",
    "df = pd.read_csv(r\"C:\\Users\\Digital Suppliers\\Desktop\\Swiggy_Recommender\\venv\\swiggy_data.csv\")\n",
    "\n",
    "print(\"Shape before cleaning:\", df.shape)"
   ]
  },
  {
   "cell_type": "code",
   "execution_count": 2,
   "id": "6ada4450",
   "metadata": {},
   "outputs": [
    {
     "name": "stdout",
     "output_type": "stream",
     "text": [
      "<class 'pandas.core.frame.DataFrame'>\n",
      "RangeIndex: 148541 entries, 0 to 148540\n",
      "Data columns (total 11 columns):\n",
      " #   Column        Non-Null Count   Dtype \n",
      "---  ------        --------------   ----- \n",
      " 0   id            148541 non-null  int64 \n",
      " 1   name          148455 non-null  object\n",
      " 2   city          148541 non-null  object\n",
      " 3   rating        148455 non-null  object\n",
      " 4   rating_count  148455 non-null  object\n",
      " 5   cost          148410 non-null  object\n",
      " 6   cuisine       148442 non-null  object\n",
      " 7   lic_no        148312 non-null  object\n",
      " 8   link          148541 non-null  object\n",
      " 9   address       148455 non-null  object\n",
      " 10  menu          148541 non-null  object\n",
      "dtypes: int64(1), object(10)\n",
      "memory usage: 12.5+ MB\n"
     ]
    }
   ],
   "source": [
    "df.info()"
   ]
  },
  {
   "cell_type": "code",
   "execution_count": 3,
   "id": "518a572c",
   "metadata": {},
   "outputs": [
    {
     "name": "stdout",
     "output_type": "stream",
     "text": [
      "After removing duplicates: (148541, 11)\n"
     ]
    }
   ],
   "source": [
    "# Remove duplicate rows\n",
    "df = df.drop_duplicates()\n",
    "print(\"After removing duplicates:\", df.shape)"
   ]
  },
  {
   "cell_type": "code",
   "execution_count": 4,
   "id": "66ac5384",
   "metadata": {},
   "outputs": [],
   "source": [
    "# ---------- Drop unwanted columns ----------\n",
    "df = df.drop(columns=[\"id\", \"lic_no\", \"link\", \"address\", \"menu\"])"
   ]
  },
  {
   "cell_type": "code",
   "execution_count": 6,
   "id": "a3e86b6e",
   "metadata": {},
   "outputs": [],
   "source": [
    "# Handle missing values\n",
    "# Drop rows where important columns are missing\n",
    "df = df.dropna(subset=[\"city\", \"cuisine\", \"rating\", \"rating_count\", \"cost\"])"
   ]
  },
  {
   "cell_type": "code",
   "execution_count": 7,
   "id": "b46ed159",
   "metadata": {},
   "outputs": [],
   "source": [
    "# Fill missing cuisine with \"Unknown\" (important for recommendation)\n",
    "df[\"cuisine\"] = df[\"cuisine\"].fillna(\"Unknown\")"
   ]
  },
  {
   "cell_type": "code",
   "execution_count": 8,
   "id": "9b333c63",
   "metadata": {},
   "outputs": [],
   "source": [
    "df[\"rating\"] = pd.to_numeric(df[\"rating\"], errors=\"coerce\")"
   ]
  },
  {
   "cell_type": "code",
   "execution_count": 9,
   "id": "85f288c4",
   "metadata": {},
   "outputs": [
    {
     "name": "stdout",
     "output_type": "stream",
     "text": [
      "['Too Few Ratings' '50+ ratings' '100+ ratings' '20+ ratings'\n",
      " '500+ ratings' '1K+ ratings' '5K+ ratings' '10K+ ratings']\n"
     ]
    }
   ],
   "source": [
    "#Inspect unique values\n",
    "print(df['rating_count'].unique())"
   ]
  },
  {
   "cell_type": "code",
   "execution_count": 10,
   "id": "f0f7eec5",
   "metadata": {},
   "outputs": [],
   "source": [
    "def clean_rating_count(x):\n",
    "    if pd.isna(x):\n",
    "        return None\n",
    "    x = str(x).strip()\n",
    "\n",
    "    # Drop unusable values\n",
    "    if x == \"Too Few Ratings\":\n",
    "        return None\n",
    "\n",
    "    # Handle \"K\" values\n",
    "    if \"K\" in x:\n",
    "        return int(float(x.replace(\"K+ ratings\", \"\").replace(\"K+\", \"\").replace(\"K\", \"\")) * 1000)\n",
    "\n",
    "    # Handle normal \"+ ratings\" values\n",
    "    if \"ratings\" in x:\n",
    "        x = x.replace(\"+ ratings\", \"\").replace(\" ratings\", \"\")\n",
    "        if x.isdigit():\n",
    "            return int(x)\n",
    "\n",
    "    return None\n",
    "\n",
    "df[\"rating_count\"] = df[\"rating_count\"].apply(clean_rating_count)\n",
    "df[\"rating_count\"] = df[\"rating_count\"].astype(\"Int64\")  # pandas nullable integer type\n",
    "\n"
   ]
  },
  {
   "cell_type": "code",
   "execution_count": 11,
   "id": "d300ba2b",
   "metadata": {},
   "outputs": [
    {
     "name": "stdout",
     "output_type": "stream",
     "text": [
      "['₹ 200' '₹ 100' '₹ 250' '₹ 150' '₹ 300' '₹ 700' '₹ 650' '₹ 400' '₹ 350'\n",
      " '₹ 60' '₹ 110' '₹ 399' '₹ 249' '₹ 500' '₹ 99' '₹ 120' '₹ 499' '₹ 299'\n",
      " '₹ 199' '₹ 50' '₹ 180' '₹ 349' '₹ 1000' '₹ 599' '₹ 600' '₹ 800' '₹ 450'\n",
      " '₹ 149' '₹ 290' '₹ 175' '₹ 125' '₹ 8' '₹ 375' '₹ 275' '₹ 425' '₹ 225'\n",
      " '₹ 325' '₹ 75' '₹ 160' '₹ 550' '₹ 220' '₹ 20' '₹ 59' '₹ 1200' '₹ 210'\n",
      " '₹ 30' '₹ 310' '₹ 70' '₹ 170' '₹ 449' '₹ 280' '₹ 320' '₹ 1300' '₹ 850'\n",
      " '₹ 900' '₹ 40' '₹ 1500' '₹ 140' '₹ 1100' '₹ 410' '₹ 80' '₹ 10' '₹ 1245'\n",
      " '₹ 510' '₹ 90' '₹ 260' '₹ 1800' '₹ 5' '₹ 240' '₹ 460' '₹ 1900' '₹ 352'\n",
      " '₹ 298' '₹ 2' '₹ 252' '₹ 330' '₹ 750' '₹ 130' '₹ 2000' '₹ 198' '₹ 230'\n",
      " '₹ 999' '₹ 3999' '₹ 235' '₹ 1600' '₹ 55' '₹ 179' '₹ 129' '₹ 360' '₹ 85'\n",
      " '₹ 248' '₹ 270' '₹ 25' '₹ 159' '₹ 370' '₹ 1050' '₹ 49' '₹ 699' '₹ 340'\n",
      " '₹ 190' '₹ 710' '₹ 1250' '₹ 178' '₹ 148' '₹ 380' '₹ 257' '₹ 171' '₹ 193'\n",
      " '₹ 189' '₹ 197' '₹ 336' '₹ 251' '₹ 245' '₹ 219' '₹ 188' '₹ 137' '₹ 164'\n",
      " '₹ 126' '₹ 268' '₹ 421' '₹ 540' '₹ 239' '₹ 14' '₹ 259' '₹ 1400' '₹ 497'\n",
      " '₹ 176' '₹ 255' '₹ 990' '₹ 158' '₹ 438' '₹ 354' '₹ 483' '₹ 69' '₹ 398'\n",
      " '₹ 39' '₹ 560' '₹ 278' '₹ 3000' '₹ 749' '₹ 2400' '₹ 950' '₹ 480' '₹ 258'\n",
      " '₹ 45' '₹ 359' '₹ 119' '₹ 224' '₹ 385' '₹ 590' '₹ 703' '₹ 347' '₹ 363'\n",
      " '₹ 790' '₹ 798' '₹ 15' '₹ 89' '₹ 355' '₹ 105' '₹ 719' '₹ 1099' '₹ 289'\n",
      " '₹ 440' '₹ 420' '₹ 559' '₹ 215' '₹ 390' '₹ 1' '₹ 138' '₹ 760' '₹ 595'\n",
      " '₹ 218' '₹ 65' '₹ 532' '₹ 288' '₹ 292' '₹ 214' '₹ 267' '₹ 284' '₹ 283'\n",
      " '₹ 746' '₹ 269' '₹ 287' '₹ 254' '₹ 502' '₹ 2022' '₹ 2500' '₹ 899' '₹ 163'\n",
      " '₹ 182' '₹ 203' '₹ 296' '₹ 597' '₹ 327' '₹ 293' '₹ 169' '₹ 799' '₹ 295'\n",
      " '₹ 263' '₹ 238' '₹ 378' '₹ 8000' '₹ 28' '₹ 498' '₹ 490' '₹ 459' '₹ 3500'\n",
      " '₹ 209' '₹ 183' '₹ 12' '₹ 79' '₹ 409' '₹ 196' '₹ 680' '₹ 888' '₹ 520'\n",
      " '₹ 279' '₹ 147' '₹ 475' '₹ 348' '₹ 1700' '₹ 630' '₹ 152' '₹ 580' '₹ 155'\n",
      " '₹ 1038' '₹ 384' '₹ 201' '₹ 111' '₹ 4' '₹ 195' '₹ 313' '₹ 229' '₹ 265'\n",
      " '₹ 118' '₹ 357' '₹ 294' '₹ 328' '₹ 640' '₹ 297' '₹ 430' '₹ 849' '₹ 649'\n",
      " '₹ 135' '₹ 675' '₹ 115' '₹ 132' '₹ 151' '₹ 396' '₹ 95' '₹ 102' '₹ 38'\n",
      " '₹ 3' '₹ 124' '₹ 106' '₹ 104' '₹ 32' '₹ 379' '₹ 98' '₹ 526' '₹ 820'\n",
      " '₹ 620' '₹ 108' '₹ 2509' '₹ 285' '₹ 6000' '₹ 5023' '₹ 204' '₹ 840'\n",
      " '₹ 839' '₹ 109' '₹ 308' '₹ 1650' '₹ 305' '₹ 84' '₹ 574' '₹ 748' '₹ 318'\n",
      " '₹ 2100' '₹ 1290' '₹ 57' '₹ 145' '₹ 185' '₹ 35' '₹ 458' '₹ 549' '₹ 660'\n",
      " '₹ 1045' '₹ 24' '₹ 880' '₹ 1999' '₹ 300350' '₹ 338' '₹ 493' '₹ 2200'\n",
      " '₹ 495' '₹ 444' '₹ 48' '₹ 780' '₹ 389' '₹ 3200' '₹ 416' '₹ 3360' '₹ 530'\n",
      " '₹ 366' '₹ 96' '₹ 221' '₹ 564' '₹ 920' '₹ 11' '₹ 395' '₹ 478' '₹ 208'\n",
      " '₹ 222' '₹ 144' '₹ 236' '₹ 276' '₹ 333' '₹ 139' '₹ 29' '₹ 315' '₹ 3100'\n",
      " '₹ 2700' '₹ 271' '₹ 351' '₹ 311' '₹ 286' '₹ 301' '₹ 256' '₹ 507' '₹ 87'\n",
      " '₹ 211' '₹ 22' '₹ 26' '₹ 5000' '₹ 2800' '₹ 598' '₹ 1001' '₹ 13' '₹ 156'\n",
      " '₹ 53' '₹ 165' '₹ 131' '₹ 666' '₹ 1150' '₹ 1020' '₹ 277' '₹ 1199' '₹ 177'\n",
      " '₹ 518' '₹ 54' '₹ 121' '₹ 670' '₹ 345' '₹ 94' '₹ 501' '₹ 216' '₹ 625'\n",
      " '₹ 88' '₹ 101' '₹ 312' '₹ 448' '₹ 64']\n"
     ]
    }
   ],
   "source": [
    "print(df['cost'].unique())"
   ]
  },
  {
   "cell_type": "code",
   "execution_count": 12,
   "id": "7af74d6d",
   "metadata": {},
   "outputs": [],
   "source": [
    "#clean cost column\n",
    "def clean_cost(x):\n",
    "    if pd.isna(x):\n",
    "        return None\n",
    "    x = str(x).replace(\"₹\", \"\").replace(\",\", \"\").strip()\n",
    "    if x.isdigit():\n",
    "        return int(x)\n",
    "    return None\n",
    "\n",
    "df[\"cost\"] = df[\"cost\"].apply(clean_cost)"
   ]
  },
  {
   "cell_type": "code",
   "execution_count": 13,
   "id": "b5726eb1",
   "metadata": {},
   "outputs": [
    {
     "name": "stderr",
     "output_type": "stream",
     "text": [
      "C:\\Users\\Digital Suppliers\\AppData\\Local\\Temp\\ipykernel_21736\\3153461823.py:1: FutureWarning: A value is trying to be set on a copy of a DataFrame or Series through chained assignment using an inplace method.\n",
      "The behavior will change in pandas 3.0. This inplace method will never work because the intermediate object on which we are setting values always behaves as a copy.\n",
      "\n",
      "For example, when doing 'df[col].method(value, inplace=True)', try using 'df.method({col: value}, inplace=True)' or df[col] = df[col].method(value) instead, to perform the operation inplace on the original object.\n",
      "\n",
      "\n",
      "  df[\"rating\"].fillna(df[\"rating\"].mean(), inplace=True)\n",
      "C:\\Users\\Digital Suppliers\\AppData\\Local\\Temp\\ipykernel_21736\\3153461823.py:2: FutureWarning: A value is trying to be set on a copy of a DataFrame or Series through chained assignment using an inplace method.\n",
      "The behavior will change in pandas 3.0. This inplace method will never work because the intermediate object on which we are setting values always behaves as a copy.\n",
      "\n",
      "For example, when doing 'df[col].method(value, inplace=True)', try using 'df.method({col: value}, inplace=True)' or df[col] = df[col].method(value) instead, to perform the operation inplace on the original object.\n",
      "\n",
      "\n",
      "  df[\"rating_count\"].fillna(0, inplace=True)  # assume no ratings → 0\n",
      "C:\\Users\\Digital Suppliers\\AppData\\Local\\Temp\\ipykernel_21736\\3153461823.py:3: FutureWarning: A value is trying to be set on a copy of a DataFrame or Series through chained assignment using an inplace method.\n",
      "The behavior will change in pandas 3.0. This inplace method will never work because the intermediate object on which we are setting values always behaves as a copy.\n",
      "\n",
      "For example, when doing 'df[col].method(value, inplace=True)', try using 'df.method({col: value}, inplace=True)' or df[col] = df[col].method(value) instead, to perform the operation inplace on the original object.\n",
      "\n",
      "\n",
      "  df[\"cost\"].fillna(df[\"cost\"].median(), inplace=True)\n"
     ]
    }
   ],
   "source": [
    "df[\"rating\"].fillna(df[\"rating\"].mean(), inplace=True)\n",
    "df[\"rating_count\"].fillna(0, inplace=True)  # assume no ratings → 0\n",
    "df[\"cost\"].fillna(df[\"cost\"].median(), inplace=True)"
   ]
  },
  {
   "cell_type": "code",
   "execution_count": 14,
   "id": "c1f5c311",
   "metadata": {},
   "outputs": [
    {
     "name": "stderr",
     "output_type": "stream",
     "text": [
      "C:\\Users\\Digital Suppliers\\AppData\\Local\\Temp\\ipykernel_21736\\3786727931.py:1: FutureWarning: A value is trying to be set on a copy of a DataFrame or Series through chained assignment using an inplace method.\n",
      "The behavior will change in pandas 3.0. This inplace method will never work because the intermediate object on which we are setting values always behaves as a copy.\n",
      "\n",
      "For example, when doing 'df[col].method(value, inplace=True)', try using 'df.method({col: value}, inplace=True)' or df[col] = df[col].method(value) instead, to perform the operation inplace on the original object.\n",
      "\n",
      "\n",
      "  df[\"city\"].fillna(\"Unknown\", inplace=True)\n",
      "C:\\Users\\Digital Suppliers\\AppData\\Local\\Temp\\ipykernel_21736\\3786727931.py:2: FutureWarning: A value is trying to be set on a copy of a DataFrame or Series through chained assignment using an inplace method.\n",
      "The behavior will change in pandas 3.0. This inplace method will never work because the intermediate object on which we are setting values always behaves as a copy.\n",
      "\n",
      "For example, when doing 'df[col].method(value, inplace=True)', try using 'df.method({col: value}, inplace=True)' or df[col] = df[col].method(value) instead, to perform the operation inplace on the original object.\n",
      "\n",
      "\n",
      "  df[\"cuisine\"].fillna(\"Unknown\", inplace=True)\n"
     ]
    }
   ],
   "source": [
    "df[\"city\"].fillna(\"Unknown\", inplace=True)\n",
    "df[\"cuisine\"].fillna(\"Unknown\", inplace=True)"
   ]
  },
  {
   "cell_type": "code",
   "execution_count": 15,
   "id": "9168109d",
   "metadata": {},
   "outputs": [
    {
     "name": "stdout",
     "output_type": "stream",
     "text": [
      "Cleaned data saved as cleaned_data.csv\n"
     ]
    }
   ],
   "source": [
    "# Save cleaned data\n",
    "df.to_csv(r\"C:\\Users\\Digital Suppliers\\Desktop\\Swiggy_Recommender\\cleaned_data.csv\", index=False)\n",
    "\n",
    "print(\"Cleaned data saved as cleaned_data.csv\")"
   ]
  }
 ],
 "metadata": {
  "kernelspec": {
   "display_name": "venv (3.12.3)",
   "language": "python",
   "name": "python3"
  },
  "language_info": {
   "codemirror_mode": {
    "name": "ipython",
    "version": 3
   },
   "file_extension": ".py",
   "mimetype": "text/x-python",
   "name": "python",
   "nbconvert_exporter": "python",
   "pygments_lexer": "ipython3",
   "version": "3.12.3"
  }
 },
 "nbformat": 4,
 "nbformat_minor": 5
}
